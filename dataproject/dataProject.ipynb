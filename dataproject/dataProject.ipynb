{
 "cells": [
  {
   "cell_type": "markdown",
   "metadata": {},
   "source": [
    "# Danish Corporate Data, Star Wars and the US Economy\n",
    "### Data-Project - by fbm569 and pbn351\n",
    "This is the beginning to the data project. It takes you through the journey of linking Danish Corporate Data, the World Economy and pure Star Wars facts.\n",
    "\n",
    "This project uses data from Erhvervsstyrrelsen's \"System-til-system adgang til regnskabsdata\", \n",
    "which is a JSON + ElasticSearch webservice that contains accounting data for all danish firms. \n",
    "\n",
    "The part of the dataset is available on this link: http://web.math.ku.dk/~richard/BSc/DefaultDKTotal.csv \n",
    "\n",
    "We will use the datadump above instead of the live data link, due to time limitations. '\n",
    "In a professional environment and in real life use cases it would be preferable to parse the JSON response into some file.\n",
    "\n",
    "Furthermore data of the World Economy is taken from the World Bank CPI and finally our Star Wars Data is a grand collection of Lego Star Wars sets over the years containing a vast amount of detailed information. \n",
    "The dataset is available here: \"https://gist.githubusercontent.com/jncraton/68beb88e6027d9321373/raw/381dcf8c0d4534d420d2488b9c60b1204c9f4363/starwars.csv\"\n",
    "\n",
    "\n",
    "First you will need to hang on a bit while we present and analyze the Danish Corporate Data (zzz...). But do not hesitate we will soon turn to a galaxy far far away (maybe the US economy will be a bump on the ride). \n",
    "\n",
    "First we will download the file and import packages for reading the file"
   ]
  },
  {
   "cell_type": "code",
   "execution_count": 1,
   "metadata": {},
   "outputs": [
    {
     "data": {
      "text/plain": [
       "556835616"
      ]
     },
     "execution_count": 1,
     "metadata": {},
     "output_type": "execute_result"
    }
   ],
   "source": [
    "#Import packages to read the file\n",
    "import urllib\n",
    "import os \n",
    "\n",
    "\n",
    "#File location is by default the online location of the dataset, while filename would have to be changed to a local directory to run the code\n",
    "filelocation = \"http://web.math.ku.dk/~richard/BSc/DefaultDKTotal.csv\" #File is about 500mb, be sure to have stable connection before you run\n",
    "filename = \"DefaultDKTotal.csv\" #What the local filepath annd filename will be, make sure it's a valid path on your pc\n",
    "\n",
    "\n",
    "#Following is to prevent download of file if file is already downloaded correctly \n",
    "#(which we suspect might put down the server when our analysis goes public)\n",
    "try:\n",
    "    if os.stat(filename).st_size < 500000000:\n",
    "        raise    \n",
    "except:\n",
    "    testfile = urllib.request.URLopener()\n",
    "    testfile.retrieve(filelocation,filename)\n",
    "    \n",
    "os.stat(filename).st_size #Make sure this is around 556835616"
   ]
  },
  {
   "cell_type": "markdown",
   "metadata": {},
   "source": [
    "With the file downloaded we can now import it into a pandas dataframe. When that is done we will able to work with the package pandas and all its might and functions.  "
   ]
  },
  {
   "cell_type": "code",
   "execution_count": 2,
   "metadata": {},
   "outputs": [],
   "source": [
    "#Import pandas package for data analysis\n",
    "import pandas as pd \n",
    "\n",
    "#The dataset is named file as a pandas dataset. \n",
    "file = pd.read_csv(filename,dtype=\"str\") #Had to load all columns as str due to some strange error, this will be fixed later\n",
    "file = file[pd.notnull(file[\"GivenCVR\"])] #Remove where CVR is missing\n",
    "file = file[file[\"InformationOnTypeOfSubmittedReport\"] == \"Årsrapport\"] #Not interested in liquidation reports and other crazy reports"
   ]
  },
  {
   "cell_type": "markdown",
   "metadata": {},
   "source": [
    "We can then make sure everything looks \"good\" by running \"head\" which gives an overview over the first few rows and all columns of the dataset. "
   ]
  },
  {
   "cell_type": "code",
   "execution_count": 3,
   "metadata": {},
   "outputs": [
    {
     "data": {
      "text/html": [
       "<div>\n",
       "<style scoped>\n",
       "    .dataframe tbody tr th:only-of-type {\n",
       "        vertical-align: middle;\n",
       "    }\n",
       "\n",
       "    .dataframe tbody tr th {\n",
       "        vertical-align: top;\n",
       "    }\n",
       "\n",
       "    .dataframe thead th {\n",
       "        text-align: right;\n",
       "    }\n",
       "</style>\n",
       "<table border=\"1\" class=\"dataframe\">\n",
       "  <thead>\n",
       "    <tr style=\"text-align: right;\">\n",
       "      <th></th>\n",
       "      <th>GivenCVR</th>\n",
       "      <th>GivenStart</th>\n",
       "      <th>GivenEnd</th>\n",
       "      <th>Equity</th>\n",
       "      <th>InformationOnTypeOfSubmittedReport</th>\n",
       "      <th>NameOfReportingEntity</th>\n",
       "      <th>NameOfSubmittingEnterprise</th>\n",
       "      <th>ProfitLoss</th>\n",
       "      <th>ClassOfReportingEntity</th>\n",
       "      <th>Assets</th>\n",
       "      <th>...</th>\n",
       "      <th>Soliditetsudvikling</th>\n",
       "      <th>Afkastningsgradsudvikling</th>\n",
       "      <th>Gearingsudvikling</th>\n",
       "      <th>Likviditetsgradsudvikling</th>\n",
       "      <th>default</th>\n",
       "      <th>Normal_slut</th>\n",
       "      <th>Normal_start</th>\n",
       "      <th>Type</th>\n",
       "      <th>CompanyAge</th>\n",
       "      <th>ExecutiveAge</th>\n",
       "    </tr>\n",
       "  </thead>\n",
       "  <tbody>\n",
       "    <tr>\n",
       "      <th>0</th>\n",
       "      <td>10000025</td>\n",
       "      <td>2013-01-01</td>\n",
       "      <td>2013-12-31</td>\n",
       "      <td>39217.0</td>\n",
       "      <td>Årsrapport</td>\n",
       "      <td>WATERFRONT CONNECTION ApS</td>\n",
       "      <td>Pryds Statsautoriseret revisionsfirma</td>\n",
       "      <td>-76713.0</td>\n",
       "      <td>Regnskabsklasse B</td>\n",
       "      <td>56399.0</td>\n",
       "      <td>...</td>\n",
       "      <td>NaN</td>\n",
       "      <td>NaN</td>\n",
       "      <td>NaN</td>\n",
       "      <td>NaN</td>\n",
       "      <td>0</td>\n",
       "      <td>NaN</td>\n",
       "      <td>2012-05-31</td>\n",
       "      <td>APS</td>\n",
       "      <td>1.5906593406593406</td>\n",
       "      <td>NaN</td>\n",
       "    </tr>\n",
       "    <tr>\n",
       "      <th>1</th>\n",
       "      <td>10000025</td>\n",
       "      <td>2014-01-01</td>\n",
       "      <td>2014-12-31</td>\n",
       "      <td>-798210.0</td>\n",
       "      <td>Årsrapport</td>\n",
       "      <td>WATERFRONT CONNECTION ApS</td>\n",
       "      <td>PRYDS</td>\n",
       "      <td>-47427.0</td>\n",
       "      <td>Regnskabsklasse B</td>\n",
       "      <td>357316.0</td>\n",
       "      <td>...</td>\n",
       "      <td>-4.795775162700316</td>\n",
       "      <td>1.2274524393111144</td>\n",
       "      <td>NaN</td>\n",
       "      <td>NaN</td>\n",
       "      <td>0</td>\n",
       "      <td>NaN</td>\n",
       "      <td>2012-05-31</td>\n",
       "      <td>APS</td>\n",
       "      <td>2.5934065934065935</td>\n",
       "      <td>NaN</td>\n",
       "    </tr>\n",
       "    <tr>\n",
       "      <th>2</th>\n",
       "      <td>10000025</td>\n",
       "      <td>2015-01-01</td>\n",
       "      <td>2015-12-31</td>\n",
       "      <td>-972885.0</td>\n",
       "      <td>Årsrapport</td>\n",
       "      <td>WATERFRONT CONNECTION ApS</td>\n",
       "      <td>PRYDS</td>\n",
       "      <td>-174675.0</td>\n",
       "      <td>Regnskabsklasse B</td>\n",
       "      <td>389334.0</td>\n",
       "      <td>...</td>\n",
       "      <td>-0.29370848535425353</td>\n",
       "      <td>-0.3159195209691815</td>\n",
       "      <td>NaN</td>\n",
       "      <td>NaN</td>\n",
       "      <td>0</td>\n",
       "      <td>NaN</td>\n",
       "      <td>2012-05-31</td>\n",
       "      <td>APS</td>\n",
       "      <td>3.5961538461538463</td>\n",
       "      <td>NaN</td>\n",
       "    </tr>\n",
       "    <tr>\n",
       "      <th>3</th>\n",
       "      <td>10000157</td>\n",
       "      <td>2013-01-01</td>\n",
       "      <td>2013-12-31</td>\n",
       "      <td>67255e3</td>\n",
       "      <td>Årsrapport</td>\n",
       "      <td>Witt Invest ApS</td>\n",
       "      <td>PricewaterhouseCoopers Statsautoriseret Revisi...</td>\n",
       "      <td>20058e3</td>\n",
       "      <td>Regnskabsklasse C, stor virksomhed</td>\n",
       "      <td>19402e4</td>\n",
       "      <td>...</td>\n",
       "      <td>NaN</td>\n",
       "      <td>NaN</td>\n",
       "      <td>NaN</td>\n",
       "      <td>NaN</td>\n",
       "      <td>0</td>\n",
       "      <td>NaN</td>\n",
       "      <td>1999-10-14</td>\n",
       "      <td>APS</td>\n",
       "      <td>14.263736263736265</td>\n",
       "      <td>45.0</td>\n",
       "    </tr>\n",
       "    <tr>\n",
       "      <th>4</th>\n",
       "      <td>10000157</td>\n",
       "      <td>2014-01-01</td>\n",
       "      <td>2014-12-31</td>\n",
       "      <td>96773e3</td>\n",
       "      <td>Årsrapport</td>\n",
       "      <td>Witt Invest ApS</td>\n",
       "      <td>PricewaterhouseCoopers Statsautoriseret Revisi...</td>\n",
       "      <td>24198e3</td>\n",
       "      <td>Regnskabsklasse C, stor virksomhed</td>\n",
       "      <td>226974e3</td>\n",
       "      <td>...</td>\n",
       "      <td>0.07962854839446015</td>\n",
       "      <td>0.0032302351995609074</td>\n",
       "      <td>-0.1648712947562777</td>\n",
       "      <td>-0.4906454052090985</td>\n",
       "      <td>0</td>\n",
       "      <td>NaN</td>\n",
       "      <td>1999-10-14</td>\n",
       "      <td>APS</td>\n",
       "      <td>15.266483516483516</td>\n",
       "      <td>44.5</td>\n",
       "    </tr>\n",
       "  </tbody>\n",
       "</table>\n",
       "<p>5 rows × 76 columns</p>\n",
       "</div>"
      ],
      "text/plain": [
       "   GivenCVR  GivenStart    GivenEnd     Equity  \\\n",
       "0  10000025  2013-01-01  2013-12-31    39217.0   \n",
       "1  10000025  2014-01-01  2014-12-31  -798210.0   \n",
       "2  10000025  2015-01-01  2015-12-31  -972885.0   \n",
       "3  10000157  2013-01-01  2013-12-31    67255e3   \n",
       "4  10000157  2014-01-01  2014-12-31    96773e3   \n",
       "\n",
       "  InformationOnTypeOfSubmittedReport      NameOfReportingEntity  \\\n",
       "0                         Årsrapport  WATERFRONT CONNECTION ApS   \n",
       "1                         Årsrapport  WATERFRONT CONNECTION ApS   \n",
       "2                         Årsrapport  WATERFRONT CONNECTION ApS   \n",
       "3                         Årsrapport            Witt Invest ApS   \n",
       "4                         Årsrapport            Witt Invest ApS   \n",
       "\n",
       "                          NameOfSubmittingEnterprise ProfitLoss  \\\n",
       "0              Pryds Statsautoriseret revisionsfirma   -76713.0   \n",
       "1                                              PRYDS   -47427.0   \n",
       "2                                              PRYDS  -174675.0   \n",
       "3  PricewaterhouseCoopers Statsautoriseret Revisi...    20058e3   \n",
       "4  PricewaterhouseCoopers Statsautoriseret Revisi...    24198e3   \n",
       "\n",
       "               ClassOfReportingEntity    Assets     ...       \\\n",
       "0                   Regnskabsklasse B   56399.0     ...        \n",
       "1                   Regnskabsklasse B  357316.0     ...        \n",
       "2                   Regnskabsklasse B  389334.0     ...        \n",
       "3  Regnskabsklasse C, stor virksomhed   19402e4     ...        \n",
       "4  Regnskabsklasse C, stor virksomhed  226974e3     ...        \n",
       "\n",
       "    Soliditetsudvikling Afkastningsgradsudvikling    Gearingsudvikling  \\\n",
       "0                   NaN                       NaN                  NaN   \n",
       "1    -4.795775162700316        1.2274524393111144                  NaN   \n",
       "2  -0.29370848535425353       -0.3159195209691815                  NaN   \n",
       "3                   NaN                       NaN                  NaN   \n",
       "4   0.07962854839446015     0.0032302351995609074  -0.1648712947562777   \n",
       "\n",
       "  Likviditetsgradsudvikling default Normal_slut Normal_start Type  \\\n",
       "0                       NaN       0         NaN   2012-05-31  APS   \n",
       "1                       NaN       0         NaN   2012-05-31  APS   \n",
       "2                       NaN       0         NaN   2012-05-31  APS   \n",
       "3                       NaN       0         NaN   1999-10-14  APS   \n",
       "4       -0.4906454052090985       0         NaN   1999-10-14  APS   \n",
       "\n",
       "           CompanyAge ExecutiveAge  \n",
       "0  1.5906593406593406          NaN  \n",
       "1  2.5934065934065935          NaN  \n",
       "2  3.5961538461538463          NaN  \n",
       "3  14.263736263736265         45.0  \n",
       "4  15.266483516483516         44.5  \n",
       "\n",
       "[5 rows x 76 columns]"
      ]
     },
     "execution_count": 3,
     "metadata": {},
     "output_type": "execute_result"
    }
   ],
   "source": [
    "#Use the head-function to create an overview of the data\n",
    "file.head()"
   ]
  },
  {
   "cell_type": "markdown",
   "metadata": {},
   "source": [
    "Now we check different combinations of \"Regnskabsklasse\" (reporting entity)"
   ]
  },
  {
   "cell_type": "code",
   "execution_count": 4,
   "metadata": {},
   "outputs": [
    {
     "data": {
      "text/plain": [
       "0                                 Regnskabsklasse B\n",
       "3                Regnskabsklasse C, stor virksomhed\n",
       "13         Regnskabsklasse C, mellemstor virksomhed\n",
       "283                                             NaN\n",
       "449                               Reporting class B\n",
       "598              Regnskabsklasse B, mikrovirksomhed\n",
       "789                               Regnskabsklasse A\n",
       "3233                              Regnskabsklasse D\n",
       "5083            Reporting class C, large enterprise\n",
       "5214      Reporting class C, medium-size enterprise\n",
       "266656                           Regnskabsklasse B \n",
       "411929                            Reporting class A\n",
       "Name: ClassOfReportingEntity, dtype: object"
      ]
     },
     "execution_count": 4,
     "metadata": {},
     "output_type": "execute_result"
    }
   ],
   "source": [
    "file[\"ClassOfReportingEntity\"].drop_duplicates() #Check different combinations of Regnskabsklasse"
   ]
  },
  {
   "cell_type": "markdown",
   "metadata": {},
   "source": [
    "Beware that some are in danish and some are in english which might cause a problem later. So let us turn them all in to the same class. "
   ]
  },
  {
   "cell_type": "code",
   "execution_count": 5,
   "metadata": {},
   "outputs": [
    {
     "data": {
      "text/html": [
       "<div>\n",
       "<style scoped>\n",
       "    .dataframe tbody tr th:only-of-type {\n",
       "        vertical-align: middle;\n",
       "    }\n",
       "\n",
       "    .dataframe tbody tr th {\n",
       "        vertical-align: top;\n",
       "    }\n",
       "\n",
       "    .dataframe thead th {\n",
       "        text-align: right;\n",
       "    }\n",
       "</style>\n",
       "<table border=\"1\" class=\"dataframe\">\n",
       "  <thead>\n",
       "    <tr style=\"text-align: right;\">\n",
       "      <th></th>\n",
       "      <th>GivenCVR</th>\n",
       "      <th>GivenStart</th>\n",
       "      <th>GivenEnd</th>\n",
       "      <th>Equity</th>\n",
       "      <th>InformationOnTypeOfSubmittedReport</th>\n",
       "      <th>NameOfReportingEntity</th>\n",
       "      <th>NameOfSubmittingEnterprise</th>\n",
       "      <th>ProfitLoss</th>\n",
       "      <th>Assets</th>\n",
       "      <th>LiabilitiesAndEquity</th>\n",
       "      <th>...</th>\n",
       "      <th>Soliditetsudvikling</th>\n",
       "      <th>Afkastningsgradsudvikling</th>\n",
       "      <th>Gearingsudvikling</th>\n",
       "      <th>Likviditetsgradsudvikling</th>\n",
       "      <th>default</th>\n",
       "      <th>Normal_slut</th>\n",
       "      <th>Normal_start</th>\n",
       "      <th>Type</th>\n",
       "      <th>CompanyAge</th>\n",
       "      <th>ExecutiveAge</th>\n",
       "    </tr>\n",
       "    <tr>\n",
       "      <th>ClassOfReportingEntity</th>\n",
       "      <th></th>\n",
       "      <th></th>\n",
       "      <th></th>\n",
       "      <th></th>\n",
       "      <th></th>\n",
       "      <th></th>\n",
       "      <th></th>\n",
       "      <th></th>\n",
       "      <th></th>\n",
       "      <th></th>\n",
       "      <th></th>\n",
       "      <th></th>\n",
       "      <th></th>\n",
       "      <th></th>\n",
       "      <th></th>\n",
       "      <th></th>\n",
       "      <th></th>\n",
       "      <th></th>\n",
       "      <th></th>\n",
       "      <th></th>\n",
       "      <th></th>\n",
       "    </tr>\n",
       "  </thead>\n",
       "  <tbody>\n",
       "    <tr>\n",
       "      <th>Regnskabsklasse A</th>\n",
       "      <td>245</td>\n",
       "      <td>245</td>\n",
       "      <td>245</td>\n",
       "      <td>245</td>\n",
       "      <td>245</td>\n",
       "      <td>245</td>\n",
       "      <td>245</td>\n",
       "      <td>245</td>\n",
       "      <td>245</td>\n",
       "      <td>245</td>\n",
       "      <td>...</td>\n",
       "      <td>94</td>\n",
       "      <td>142</td>\n",
       "      <td>121</td>\n",
       "      <td>123</td>\n",
       "      <td>242</td>\n",
       "      <td>25</td>\n",
       "      <td>240</td>\n",
       "      <td>245</td>\n",
       "      <td>240</td>\n",
       "      <td>213</td>\n",
       "    </tr>\n",
       "    <tr>\n",
       "      <th>Regnskabsklasse B</th>\n",
       "      <td>608771</td>\n",
       "      <td>608771</td>\n",
       "      <td>608771</td>\n",
       "      <td>608770</td>\n",
       "      <td>608771</td>\n",
       "      <td>608771</td>\n",
       "      <td>608758</td>\n",
       "      <td>608769</td>\n",
       "      <td>602674</td>\n",
       "      <td>602658</td>\n",
       "      <td>...</td>\n",
       "      <td>317693</td>\n",
       "      <td>331011</td>\n",
       "      <td>324133</td>\n",
       "      <td>294448</td>\n",
       "      <td>608588</td>\n",
       "      <td>44620</td>\n",
       "      <td>608462</td>\n",
       "      <td>608771</td>\n",
       "      <td>608462</td>\n",
       "      <td>563900</td>\n",
       "    </tr>\n",
       "    <tr>\n",
       "      <th>Regnskabsklasse C</th>\n",
       "      <td>16966</td>\n",
       "      <td>16966</td>\n",
       "      <td>16966</td>\n",
       "      <td>16966</td>\n",
       "      <td>16966</td>\n",
       "      <td>16966</td>\n",
       "      <td>16966</td>\n",
       "      <td>16966</td>\n",
       "      <td>16962</td>\n",
       "      <td>16962</td>\n",
       "      <td>...</td>\n",
       "      <td>9913</td>\n",
       "      <td>10019</td>\n",
       "      <td>9726</td>\n",
       "      <td>9539</td>\n",
       "      <td>16962</td>\n",
       "      <td>678</td>\n",
       "      <td>16921</td>\n",
       "      <td>16966</td>\n",
       "      <td>16921</td>\n",
       "      <td>15313</td>\n",
       "    </tr>\n",
       "    <tr>\n",
       "      <th>Regnskabsklasse D</th>\n",
       "      <td>36</td>\n",
       "      <td>36</td>\n",
       "      <td>36</td>\n",
       "      <td>36</td>\n",
       "      <td>36</td>\n",
       "      <td>36</td>\n",
       "      <td>36</td>\n",
       "      <td>36</td>\n",
       "      <td>36</td>\n",
       "      <td>36</td>\n",
       "      <td>...</td>\n",
       "      <td>10</td>\n",
       "      <td>15</td>\n",
       "      <td>12</td>\n",
       "      <td>13</td>\n",
       "      <td>36</td>\n",
       "      <td>0</td>\n",
       "      <td>36</td>\n",
       "      <td>36</td>\n",
       "      <td>36</td>\n",
       "      <td>35</td>\n",
       "    </tr>\n",
       "  </tbody>\n",
       "</table>\n",
       "<p>4 rows × 75 columns</p>\n",
       "</div>"
      ],
      "text/plain": [
       "                        GivenCVR  GivenStart  GivenEnd  Equity  \\\n",
       "ClassOfReportingEntity                                           \n",
       "Regnskabsklasse A            245         245       245     245   \n",
       "Regnskabsklasse B         608771      608771    608771  608770   \n",
       "Regnskabsklasse C          16966       16966     16966   16966   \n",
       "Regnskabsklasse D             36          36        36      36   \n",
       "\n",
       "                        InformationOnTypeOfSubmittedReport  \\\n",
       "ClassOfReportingEntity                                       \n",
       "Regnskabsklasse A                                      245   \n",
       "Regnskabsklasse B                                   608771   \n",
       "Regnskabsklasse C                                    16966   \n",
       "Regnskabsklasse D                                       36   \n",
       "\n",
       "                        NameOfReportingEntity  NameOfSubmittingEnterprise  \\\n",
       "ClassOfReportingEntity                                                      \n",
       "Regnskabsklasse A                         245                         245   \n",
       "Regnskabsklasse B                      608771                      608758   \n",
       "Regnskabsklasse C                       16966                       16966   \n",
       "Regnskabsklasse D                          36                          36   \n",
       "\n",
       "                        ProfitLoss  Assets  LiabilitiesAndEquity  \\\n",
       "ClassOfReportingEntity                                             \n",
       "Regnskabsklasse A              245     245                   245   \n",
       "Regnskabsklasse B           608769  602674                602658   \n",
       "Regnskabsklasse C            16966   16962                 16962   \n",
       "Regnskabsklasse D               36      36                    36   \n",
       "\n",
       "                            ...       Soliditetsudvikling  \\\n",
       "ClassOfReportingEntity      ...                             \n",
       "Regnskabsklasse A           ...                        94   \n",
       "Regnskabsklasse B           ...                    317693   \n",
       "Regnskabsklasse C           ...                      9913   \n",
       "Regnskabsklasse D           ...                        10   \n",
       "\n",
       "                        Afkastningsgradsudvikling  Gearingsudvikling  \\\n",
       "ClassOfReportingEntity                                                 \n",
       "Regnskabsklasse A                             142                121   \n",
       "Regnskabsklasse B                          331011             324133   \n",
       "Regnskabsklasse C                           10019               9726   \n",
       "Regnskabsklasse D                              15                 12   \n",
       "\n",
       "                        Likviditetsgradsudvikling  default  Normal_slut  \\\n",
       "ClassOfReportingEntity                                                    \n",
       "Regnskabsklasse A                             123      242           25   \n",
       "Regnskabsklasse B                          294448   608588        44620   \n",
       "Regnskabsklasse C                            9539    16962          678   \n",
       "Regnskabsklasse D                              13       36            0   \n",
       "\n",
       "                        Normal_start    Type  CompanyAge  ExecutiveAge  \n",
       "ClassOfReportingEntity                                                  \n",
       "Regnskabsklasse A                240     245         240           213  \n",
       "Regnskabsklasse B             608462  608771      608462        563900  \n",
       "Regnskabsklasse C              16921   16966       16921         15313  \n",
       "Regnskabsklasse D                 36      36          36            35  \n",
       "\n",
       "[4 rows x 75 columns]"
      ]
     },
     "execution_count": 5,
     "metadata": {},
     "output_type": "execute_result"
    }
   ],
   "source": [
    "#Collects the same reporting entityt in the same class\n",
    "file.loc[file[\"ClassOfReportingEntity\"] == \"Reporting class A\",[\"ClassOfReportingEntity\"]] = \"Regnskabsklasse A\"\n",
    "file.loc[file[\"ClassOfReportingEntity\"] == \"Reporting class B\",[\"ClassOfReportingEntity\"]] = \"Regnskabsklasse B\"\n",
    "file.loc[file[\"ClassOfReportingEntity\"] == \"Regnskabsklasse B, mikrovirksomhed\",[\"ClassOfReportingEntity\"]] = \"Regnskabsklasse B\"\n",
    "file.loc[file[\"ClassOfReportingEntity\"] == \"Reporting class C, medium-size enterprise\",[\"ClassOfReportingEntity\"]] = \"Regnskabsklasse C\"\n",
    "file.loc[file[\"ClassOfReportingEntity\"] == \"Reporting class C, large enterprise\",[\"ClassOfReportingEntity\"]] = \"Regnskabsklasse C\"\n",
    "file.loc[file[\"ClassOfReportingEntity\"] == \"Regnskabsklasse C, stor virksomhed\",[\"ClassOfReportingEntity\"]] = \"Regnskabsklasse C\"\n",
    "file.loc[file[\"ClassOfReportingEntity\"] == \"Regnskabsklasse C, mellemstor virksomhed\",[\"ClassOfReportingEntity\"]] = \"Regnskabsklasse C\"\n",
    "\n",
    "#Makes sure they have a lenght greater than 1\n",
    "file = file.groupby(\"ClassOfReportingEntity\").filter(lambda x: len(x)>1)\n",
    "\n",
    "#For some reason Python behaves like a demented mongrel and doesn't realise that \"Regnskabsklasse B\" is listed twice\n",
    "file.groupby(\"ClassOfReportingEntity\").count() "
   ]
  },
  {
   "cell_type": "markdown",
   "metadata": {},
   "source": [
    "The dataset is way to big for us to handle so we need to do something immediately. Now let us look at the CVR-numbers of the firms. We pick 5 test CVR-numbers and subset the accounting data only containing the testfirms. "
   ]
  },
  {
   "cell_type": "code",
   "execution_count": null,
   "metadata": {},
   "outputs": [
    {
     "data": {
      "text/html": [
       "<div>\n",
       "<style scoped>\n",
       "    .dataframe tbody tr th:only-of-type {\n",
       "        vertical-align: middle;\n",
       "    }\n",
       "\n",
       "    .dataframe tbody tr th {\n",
       "        vertical-align: top;\n",
       "    }\n",
       "\n",
       "    .dataframe thead th {\n",
       "        text-align: right;\n",
       "    }\n",
       "</style>\n",
       "<table border=\"1\" class=\"dataframe\">\n",
       "  <thead>\n",
       "    <tr style=\"text-align: right;\">\n",
       "      <th></th>\n",
       "      <th>GivenStart</th>\n",
       "      <th>GivenEnd</th>\n",
       "      <th>Equity</th>\n",
       "      <th>InformationOnTypeOfSubmittedReport</th>\n",
       "      <th>NameOfReportingEntity</th>\n",
       "      <th>NameOfSubmittingEnterprise</th>\n",
       "      <th>ProfitLoss</th>\n",
       "      <th>ClassOfReportingEntity</th>\n",
       "      <th>Assets</th>\n",
       "      <th>LiabilitiesAndEquity</th>\n",
       "      <th>...</th>\n",
       "      <th>Soliditetsudvikling</th>\n",
       "      <th>Afkastningsgradsudvikling</th>\n",
       "      <th>Gearingsudvikling</th>\n",
       "      <th>Likviditetsgradsudvikling</th>\n",
       "      <th>default</th>\n",
       "      <th>Normal_slut</th>\n",
       "      <th>Normal_start</th>\n",
       "      <th>Type</th>\n",
       "      <th>CompanyAge</th>\n",
       "      <th>ExecutiveAge</th>\n",
       "    </tr>\n",
       "    <tr>\n",
       "      <th>GivenCVR</th>\n",
       "      <th></th>\n",
       "      <th></th>\n",
       "      <th></th>\n",
       "      <th></th>\n",
       "      <th></th>\n",
       "      <th></th>\n",
       "      <th></th>\n",
       "      <th></th>\n",
       "      <th></th>\n",
       "      <th></th>\n",
       "      <th></th>\n",
       "      <th></th>\n",
       "      <th></th>\n",
       "      <th></th>\n",
       "      <th></th>\n",
       "      <th></th>\n",
       "      <th></th>\n",
       "      <th></th>\n",
       "      <th></th>\n",
       "      <th></th>\n",
       "      <th></th>\n",
       "    </tr>\n",
       "  </thead>\n",
       "  <tbody>\n",
       "    <tr>\n",
       "      <th>28324316</th>\n",
       "      <td>5</td>\n",
       "      <td>5</td>\n",
       "      <td>5</td>\n",
       "      <td>5</td>\n",
       "      <td>5</td>\n",
       "      <td>5</td>\n",
       "      <td>5</td>\n",
       "      <td>5</td>\n",
       "      <td>5</td>\n",
       "      <td>5</td>\n",
       "      <td>...</td>\n",
       "      <td>4</td>\n",
       "      <td>4</td>\n",
       "      <td>4</td>\n",
       "      <td>2</td>\n",
       "      <td>5</td>\n",
       "      <td>0</td>\n",
       "      <td>5</td>\n",
       "      <td>5</td>\n",
       "      <td>5</td>\n",
       "      <td>5</td>\n",
       "    </tr>\n",
       "    <tr>\n",
       "      <th>28324642</th>\n",
       "      <td>5</td>\n",
       "      <td>5</td>\n",
       "      <td>5</td>\n",
       "      <td>5</td>\n",
       "      <td>5</td>\n",
       "      <td>5</td>\n",
       "      <td>5</td>\n",
       "      <td>5</td>\n",
       "      <td>5</td>\n",
       "      <td>5</td>\n",
       "      <td>...</td>\n",
       "      <td>4</td>\n",
       "      <td>4</td>\n",
       "      <td>4</td>\n",
       "      <td>4</td>\n",
       "      <td>5</td>\n",
       "      <td>0</td>\n",
       "      <td>5</td>\n",
       "      <td>5</td>\n",
       "      <td>5</td>\n",
       "      <td>5</td>\n",
       "    </tr>\n",
       "    <tr>\n",
       "      <th>30603583</th>\n",
       "      <td>5</td>\n",
       "      <td>5</td>\n",
       "      <td>5</td>\n",
       "      <td>5</td>\n",
       "      <td>5</td>\n",
       "      <td>5</td>\n",
       "      <td>5</td>\n",
       "      <td>5</td>\n",
       "      <td>5</td>\n",
       "      <td>5</td>\n",
       "      <td>...</td>\n",
       "      <td>4</td>\n",
       "      <td>4</td>\n",
       "      <td>4</td>\n",
       "      <td>4</td>\n",
       "      <td>5</td>\n",
       "      <td>0</td>\n",
       "      <td>5</td>\n",
       "      <td>5</td>\n",
       "      <td>5</td>\n",
       "      <td>5</td>\n",
       "    </tr>\n",
       "    <tr>\n",
       "      <th>31066786</th>\n",
       "      <td>5</td>\n",
       "      <td>5</td>\n",
       "      <td>5</td>\n",
       "      <td>5</td>\n",
       "      <td>5</td>\n",
       "      <td>5</td>\n",
       "      <td>5</td>\n",
       "      <td>5</td>\n",
       "      <td>5</td>\n",
       "      <td>5</td>\n",
       "      <td>...</td>\n",
       "      <td>4</td>\n",
       "      <td>4</td>\n",
       "      <td>4</td>\n",
       "      <td>4</td>\n",
       "      <td>5</td>\n",
       "      <td>0</td>\n",
       "      <td>5</td>\n",
       "      <td>5</td>\n",
       "      <td>5</td>\n",
       "      <td>5</td>\n",
       "    </tr>\n",
       "    <tr>\n",
       "      <th>31582601</th>\n",
       "      <td>5</td>\n",
       "      <td>5</td>\n",
       "      <td>5</td>\n",
       "      <td>5</td>\n",
       "      <td>5</td>\n",
       "      <td>5</td>\n",
       "      <td>5</td>\n",
       "      <td>5</td>\n",
       "      <td>5</td>\n",
       "      <td>5</td>\n",
       "      <td>...</td>\n",
       "      <td>4</td>\n",
       "      <td>4</td>\n",
       "      <td>4</td>\n",
       "      <td>4</td>\n",
       "      <td>5</td>\n",
       "      <td>0</td>\n",
       "      <td>5</td>\n",
       "      <td>5</td>\n",
       "      <td>5</td>\n",
       "      <td>5</td>\n",
       "    </tr>\n",
       "  </tbody>\n",
       "</table>\n",
       "<p>5 rows × 75 columns</p>\n",
       "</div>"
      ],
      "text/plain": [
       "          GivenStart  GivenEnd  Equity  InformationOnTypeOfSubmittedReport  \\\n",
       "GivenCVR                                                                     \n",
       "28324316           5         5       5                                   5   \n",
       "28324642           5         5       5                                   5   \n",
       "30603583           5         5       5                                   5   \n",
       "31066786           5         5       5                                   5   \n",
       "31582601           5         5       5                                   5   \n",
       "\n",
       "          NameOfReportingEntity  NameOfSubmittingEnterprise  ProfitLoss  \\\n",
       "GivenCVR                                                                  \n",
       "28324316                      5                           5           5   \n",
       "28324642                      5                           5           5   \n",
       "30603583                      5                           5           5   \n",
       "31066786                      5                           5           5   \n",
       "31582601                      5                           5           5   \n",
       "\n",
       "          ClassOfReportingEntity  Assets  LiabilitiesAndEquity      ...       \\\n",
       "GivenCVR                                                            ...        \n",
       "28324316                       5       5                     5      ...        \n",
       "28324642                       5       5                     5      ...        \n",
       "30603583                       5       5                     5      ...        \n",
       "31066786                       5       5                     5      ...        \n",
       "31582601                       5       5                     5      ...        \n",
       "\n",
       "          Soliditetsudvikling  Afkastningsgradsudvikling  Gearingsudvikling  \\\n",
       "GivenCVR                                                                      \n",
       "28324316                    4                          4                  4   \n",
       "28324642                    4                          4                  4   \n",
       "30603583                    4                          4                  4   \n",
       "31066786                    4                          4                  4   \n",
       "31582601                    4                          4                  4   \n",
       "\n",
       "          Likviditetsgradsudvikling  default  Normal_slut  Normal_start  Type  \\\n",
       "GivenCVR                                                                        \n",
       "28324316                          2        5            0             5     5   \n",
       "28324642                          4        5            0             5     5   \n",
       "30603583                          4        5            0             5     5   \n",
       "31066786                          4        5            0             5     5   \n",
       "31582601                          4        5            0             5     5   \n",
       "\n",
       "          CompanyAge  ExecutiveAge  \n",
       "GivenCVR                            \n",
       "28324316           5             5  \n",
       "28324642           5             5  \n",
       "30603583           5             5  \n",
       "31066786           5             5  \n",
       "31582601           5             5  \n",
       "\n",
       "[5 rows x 75 columns]"
      ]
     },
     "execution_count": 6,
     "metadata": {},
     "output_type": "execute_result"
    }
   ],
   "source": [
    "#Pick out five CVR-numbers of the firms. \n",
    "testcvrs = pd.DataFrame(data = [[30603583],[31066786],[31582601],[28324316],[28324642]]\n",
    "                        ,columns=[\"GivenCVR\"])\n",
    "#Convert CVR to integer because Python recognizes it as something else perhaps a string\n",
    "file[\"GivenCVR\"] = file[\"GivenCVR\"].astype(int)\n",
    "\n",
    "#Subset our accounting data to only contain testfirms\n",
    "both_inner = pd.merge(file,testcvrs,how=\"inner\",on=[\"GivenCVR\"]) \n",
    "\n",
    "#Confirm all 5 testfirms got some rows in the relevant columns\n",
    "both_inner.groupby(\"GivenCVR\").count() "
   ]
  },
  {
   "cell_type": "markdown",
   "metadata": {},
   "source": [
    "That confirms that we have five testfirms in each relevant column (so we made something right). Now we would like to do some plotting to see have the data behaves visually. First we import the plot-packages and then we plot the equity across years both for the five firms and for different reporting entities.    "
   ]
  },
  {
   "cell_type": "code",
   "execution_count": null,
   "metadata": {},
   "outputs": [
    {
     "data": {
      "text/plain": [
       "<matplotlib.axes._subplots.AxesSubplot at 0x164fa3828>"
      ]
     },
     "execution_count": 7,
     "metadata": {},
     "output_type": "execute_result"
    }
   ],
   "source": [
    "#Import plot-package\n",
    "import matplotlib.pyplot as plt\n",
    "both_inner[\"Year\"] = both_inner[\"GivenEnd\"].astype(str).str[:4].astype(int)\n",
    "\n",
    "both_inner[\"Equity\"] = both_inner[\"Equity\"].astype(float)\n",
    "\n",
    "#Initialize plot\n",
    "fig,ax = plt.subplots()\n",
    "\n",
    "#Variables to plot\n",
    "both_inner.groupby(\"GivenCVR\")[\"Equity\"].plot(x=\"Year\",y=\"Equity\",ax=ax,legend=True,kind = \"line\",sort_columns = True,use_index = 0)\n",
    "file[\"Equity\"] = file[\"Equity\"].astype(float)\n",
    "file[\"Year\"] = file[\"GivenEnd\"].astype(str).str[:4].astype(int)\n",
    "\n",
    "#And lets plot! Equity is plotted over time of the 5 test-firms and sorted on different reporting entities. Use mean value. \n",
    "file.groupby([\"Year\",\"ClassOfReportingEntity\"]).mean()[\"Equity\"].unstack().plot()"
   ]
  },
  {
   "cell_type": "markdown",
   "metadata": {},
   "source": [
    "Now we would like to import Numpy which has a lot of mathematical and numeric functions that we would like to use. For instance it has the logarithmic function called log. It can transform our dataset by taking log to variables. Furthermore, we would like to create some extra variables from the dataset."
   ]
  },
  {
   "cell_type": "code",
   "execution_count": null,
   "metadata": {},
   "outputs": [],
   "source": [
    "#Import numpy and create new variables\n",
    "import numpy as np\n",
    "file[\"Assets\"] = file[\"Assets\"].astype(float)\n",
    "file[\"ProfitLoss\"] = file[\"ProfitLoss\"].astype(float)\n",
    "file[\"CompanyAge\"] = file[\"CompanyAge\"].astype(float)\n",
    "file[\"ExecutiveAge\"] = file[\"ExecutiveAge\"].astype(float)\n",
    "file[\"LogExecutiveAge\"] = np.log(file[\"ExecutiveAge\"])\n",
    "\n",
    "#Uncommented plots\n",
    "#file.groupby([\"Year\",\"ClassOfReportingEntity\"]).mean()[\"Assets\"].unstack().plot()\n",
    "#file.groupby([\"Year\",\"ClassOfReportingEntity\"]).mean()[\"ProfitLoss\"].unstack().plot()"
   ]
  },
  {
   "cell_type": "markdown",
   "metadata": {},
   "source": [
    "Lets us now take a look at the variables \"Profitloss\" and \"Equity\". We might suspect that these two variables have a correlation. We then use Python to create a scatterplot of the two variables to check it visually. "
   ]
  },
  {
   "cell_type": "code",
   "execution_count": null,
   "metadata": {},
   "outputs": [
    {
     "data": {
      "text/plain": [
       "<matplotlib.axes._subplots.AxesSubplot at 0x16fceda20>"
      ]
     },
     "execution_count": 9,
     "metadata": {},
     "output_type": "execute_result"
    },
    {
     "data": {
      "image/png": "[encoded data removed]",
      "text/plain": [
       "<Figure size 432x288 with 1 Axes>"
      ]
     },
     "metadata": {
      "needs_background": "light"
     },
     "output_type": "display_data"
    }
   ],
   "source": [
    "#Create scatterplot of the two variables\n",
    "file.loc[file[\"Year\"] == 2015,[\"ProfitLoss\",\"Equity\"]].plot(xlim=[-1000000000,1000000000],ylim=[-500000000,10000000000],x=\"ProfitLoss\",y=\"Equity\",kind=\"scatter\")\n"
   ]
  },
  {
   "cell_type": "markdown",
   "metadata": {},
   "source": [
    "We would now like to check distribtional results in the data set. Lets look at the variable \"ExecutiveAge\" which beforehand we might believe has a certain distribition. First guess would be check if age is following a normal distribution. An easy way to do it - is by creating a histogram and try to fit the density of the normal distribution. Notive that the log-value of Executive age is used.    "
   ]
  },
  {
   "cell_type": "code",
   "execution_count": null,
   "metadata": {},
   "outputs": [
    {
     "data": {
      "text/plain": [
       "[<matplotlib.lines.Line2D at 0x169a57f60>]"
      ]
     },
     "execution_count": 10,
     "metadata": {},
     "output_type": "execute_result"
    },
    {
     "data": {
      "image/png": "[encoded data removed]",
      "text/plain": [
       "<Figure size 432x288 with 1 Axes>"
      ]
     },
     "metadata": {
      "needs_background": "light"
     },
     "output_type": "display_data"
    }
   ],
   "source": [
    "#Import packages\n",
    "import numpy as np\n",
    "from scipy.stats import norm  \n",
    "#Density function\n",
    "#df = pd.DataFrame({'A': np.random.normal(size=1000)})\n",
    "#df.A.plot(kind='hist', normed=True)\n",
    "\n",
    "#Create vector with values from 0 to 10 with 0.05 in between. \n",
    "range = np.arange(0, 10, 0.05)\n",
    "\n",
    "#Plot the histogram and density\n",
    "file[\"LogExecutiveAge\"].plot(kind=\"hist\",xlim=[2,5],bins=30,density=True)\n",
    "plt.plot(range, norm.pdf(range,file[\"LogExecutiveAge\"].mean(),file[\"LogExecutiveAge\"].std()))\n"
   ]
  },
  {
   "cell_type": "markdown",
   "metadata": {},
   "source": [
    "It does not fit very well though... It is possible to do the same for \"CompanyAge\", but let us now check whether it follows a Poisson Distribution and let us code it directly. "
   ]
  },
  {
   "cell_type": "code",
   "execution_count": null,
   "metadata": {},
   "outputs": [
    {
     "data": {
      "text/plain": [
       "[<matplotlib.lines.Line2D at 0x169aa5208>]"
      ]
     },
     "execution_count": 11,
     "metadata": {},
     "output_type": "execute_result"
    },
    {
     "data": {
      "image/png": "[encoded data removed]",
      "text/plain": [
       "<Figure size 432x288 with 1 Axes>"
      ]
     },
     "metadata": {
      "needs_background": "light"
     },
     "output_type": "display_data"
    }
   ],
   "source": [
    "#Import factorial function used in Poisson density\n",
    "from scipy.special import factorial\n",
    "\n",
    "#Make a vector with point between 0 and 20\n",
    "t = np.arange(0, 20, 0.1)\n",
    "#Define Poisson density\n",
    "d = np.exp(-1*file[\"CompanyAge\"].mean())*np.power(file[\"CompanyAge\"].mean(), t)/factorial(t)\n",
    "\n",
    "#Plot density and histogram\n",
    "file[\"CompanyAge\"].plot(kind=\"hist\",xlim=[0,80],bins=200,density=True)\n",
    "plt.plot(t, d, 'bs')"
   ]
  },
  {
   "cell_type": "markdown",
   "metadata": {},
   "source": [
    "Which fits even worse than before. If we want to check it the distributional assumption in a less visual way we can do a QQ-plot. "
   ]
  },
  {
   "cell_type": "code",
   "execution_count": null,
   "metadata": {},
   "outputs": [
    {
     "data": {
      "image/png": "[encoded data removed]",
      "text/plain": [
       "<Figure size 432x288 with 1 Axes>"
      ]
     },
     "metadata": {
      "needs_background": "light"
     },
     "output_type": "display_data"
    }
   ],
   "source": [
    "#Import packages to do statistical analysis\n",
    "import pylab\n",
    "import scipy.stats as stats\n",
    "\n",
    "#Standardize the variable\n",
    "z = (file[\"LogExecutiveAge\"]-np.mean(file[\"LogExecutiveAge\"]))/np.std(file[\"LogExecutiveAge\"])\n",
    "#Create QQ-plot - for log-variable. \n",
    "stats.probplot(z,dist=\"norm\",plot=pylab,fit=True)\n",
    "plt.show()\n"
   ]
  },
  {
   "cell_type": "markdown",
   "metadata": {},
   "source": [
    "Distributional assumptions seems better here to fit a normal distribution. Now we turn to something a bit different. First we import some packages to make sure we have everything we need. We then use the world bank API to take annual GDP from the US-economy. "
   ]
  },
  {
   "cell_type": "code",
   "execution_count": null,
   "metadata": {},
   "outputs": [],
   "source": [
    "#Import packages (maybe again)\n",
    "import pandas as pd\n",
    "import numpy as np\n",
    "import matplotlib.pyplot as plt \n",
    "import seaborn as sns\n",
    "from pandas_datareader import wb\n",
    "import datetime\n",
    "import statsmodels.api as sm\n",
    "\n",
    "#From the World Bank API take US gdp from 1989 to 2017\n",
    "gdps_wb = wb.download(indicator = \"NY.GDP.PCAP.KD\",country=[\"US\"],start=1989, end=2017) \n",
    "\n",
    "#API may be overloaded at times\n",
    "#Try again in 5 minutes if this block fails\n",
    "\n",
    "gdps_wb = gdps_wb.rename(columns = {\"NY.GDP.PCAP.KD\":\"gdp\"})\n",
    "gdps_wb = gdps_wb.reset_index()\n",
    "gdps_wb.head()\n",
    "gdps_wb[\"Year\"] = gdps_wb[\"year\"].astype(int)"
   ]
  },
  {
   "cell_type": "markdown",
   "metadata": {},
   "source": [
    "Now we would like to do some regressions, but we need one last dataset; namely the Star Wars dataset containing information about various Lego Star Wars sets. We first import packages to be used for the statistical analysis.  "
   ]
  },
  {
   "cell_type": "markdown",
   "metadata": {},
   "source": [
    "We read the dataset the same way as before."
   ]
  },
  {
   "cell_type": "code",
   "execution_count": null,
   "metadata": {},
   "outputs": [],
   "source": [
    "#Define onlinelocation and user location. \n",
    "swfilelocation = \"https://gist.githubusercontent.com/jncraton/68beb88e6027d9321373/raw/381dcf8c0d4534d420d2488b9c60b1204c9f4363/starwars.csv\"\n",
    "swfilename = \"StarWarsPMisTheBest.csv\"\n",
    "\n",
    "#Prevent from downloading again\n",
    "try:\n",
    "    if os.stat(swfilename).st_size < 70000:\n",
    "        raise    \n",
    "except:\n",
    "    testfile = urllib.request.URLopener()\n",
    "    testfile.retrieve(swfilelocation,swfilename)\n",
    "    \n",
    "os.stat(swfilename).st_size #Make sure this is around 556835616\n",
    "\n",
    "#Use panda to read the dataset\n",
    "starwars = pd.read_csv(swfilename)\n",
    "\n",
    "#Define new variables from the dataset\n",
    "starwars[\"Pieces\"] = starwars[\"Pieces\"].astype(float)\n",
    "starwars[\"USPrice\"] = starwars[\"USPrice\"].astype(float)\n",
    "starwars[\"USPricePrPiece\"] = starwars[\"USPrice\"]/starwars[\"Pieces\"]\n",
    "starwars[\"Year\"] = starwars[\"Year\"].astype(int)\n",
    "starwars[\"UKPrice\"] = starwars[\"UKPrice\"].astype(float)\n",
    "\n",
    "#Remove missing values. \n",
    "starwars = starwars[pd.notnull(starwars[\"Pieces\"])]\n",
    "starwars = starwars[pd.notnull(starwars[\"USPrice\"])]\n",
    "starwars = starwars[pd.notnull(starwars[\"UKPrice\"])]\n",
    "starwars = starwars[pd.notnull(starwars[\"Year\"])]\n",
    "starwars = starwars[pd.notnull(starwars[\"Subtheme\"])]\n",
    "\n"
   ]
  },
  {
   "cell_type": "markdown",
   "metadata": {},
   "source": [
    "To give an even greater overview we create an interactive plot. It let the user see the mean value of used bricks in each Lego Star Wars set each year filtered by subtheme (eg. episodes)"
   ]
  },
  {
   "cell_type": "code",
   "execution_count": null,
   "metadata": {},
   "outputs": [
    {
     "data": {
      "application/vnd.jupyter.widget-view+json": {
       "model_id": "64c6adc3b8f540089fdfc75f85fa8e95",
       "version_major": 2,
       "version_minor": 0
      },
      "text/plain": [
       "interactive(children=(Dropdown(description='Subtheme', index=4, options=('Ultimate Collector Series', 'Episode…"
      ]
     },
     "metadata": {},
     "output_type": "display_data"
    }
   ],
   "source": [
    "#Import widget package to create interactive plot\n",
    "import ipywidgets as widgets\n",
    "\n",
    "#Define function that is used to create interactive plot - use subtheme as variable and use year on the x-axis. \n",
    "def plot_e(dataframe, subtheme,column): \n",
    "    I = dataframe[\"Subtheme\"] == subtheme\n",
    "    dataframe.loc[I,:].groupby([\"Year\",\"Subtheme\"]).mean()[column].unstack().plot(style=\"-o\",legend = False)\n",
    "\n",
    "#Use widget-package to create the plot\n",
    "widgets.interact(plot_e, \n",
    "    dataframe = widgets.fixed(starwars),\n",
    "    column = widgets.fixed(\"Pieces\"),\n",
    "    subtheme = widgets.Dropdown(description='Subtheme', options=starwars.Subtheme.unique(), value='Episode I')\n",
    "); "
   ]
  },
  {
   "cell_type": "markdown",
   "metadata": {},
   "source": [
    "Now we define new variables using the mean every year and merge it with our corporate data set and US gdp.  "
   ]
  },
  {
   "cell_type": "code",
   "execution_count": null,
   "metadata": {},
   "outputs": [],
   "source": [
    "#New mean variables\n",
    "sw_usprice = starwars.groupby(\"Year\").mean()[\"USPrice\"]\n",
    "sw_pieces = starwars.groupby(\"Year\").mean()[\"Pieces\"]\n",
    "sw_usprice = sw_usprice.to_frame()\n",
    "sw_pieces = sw_pieces.to_frame()\n",
    "\n",
    "#Merge the three datasets together\n",
    "sw_merge = pd.merge(sw_usprice,sw_pieces,how=\"inner\",on=[\"Year\"])\n",
    "both_inner = pd.merge(gdps_wb,sw_merge,how=\"inner\",left_on=\"Year\",right_on=\"Year\")\n",
    "\n",
    "#both_inner.loc[:,[\"gdp\",\"USPrice\"]].plot(x=\"gdp\",y=\"USPrice\",kind=\"scatter\")\n"
   ]
  },
  {
   "cell_type": "markdown",
   "metadata": {},
   "source": [
    "We are then ready to perform a regression. Lets first do a simple regression between the price and bricks on the Lego-sets. "
   ]
  },
  {
   "cell_type": "code",
   "execution_count": null,
   "metadata": {},
   "outputs": [
    {
     "data": {
      "text/html": [
       "<table class=\"simpletable\">\n",
       "<caption>OLS Regression Results</caption>\n",
       "<tr>\n",
       "  <th>Dep. Variable:</th>         <td>USPrice</td>     <th>  R-squared:         </th> <td>   0.970</td> \n",
       "</tr>\n",
       "<tr>\n",
       "  <th>Model:</th>                   <td>OLS</td>       <th>  Adj. R-squared:    </th> <td>   0.970</td> \n",
       "</tr>\n",
       "<tr>\n",
       "  <th>Method:</th>             <td>Least Squares</td>  <th>  F-statistic:       </th> <td>   9522.</td> \n",
       "</tr>\n",
       "<tr>\n",
       "  <th>Date:</th>             <td>Thu, 04 Apr 2019</td> <th>  Prob (F-statistic):</th> <td>6.45e-225</td>\n",
       "</tr>\n",
       "<tr>\n",
       "  <th>Time:</th>                 <td>16:33:44</td>     <th>  Log-Likelihood:    </th> <td> -1195.7</td> \n",
       "</tr>\n",
       "<tr>\n",
       "  <th>No. Observations:</th>      <td>   293</td>      <th>  AIC:               </th> <td>   2393.</td> \n",
       "</tr>\n",
       "<tr>\n",
       "  <th>Df Residuals:</th>          <td>   292</td>      <th>  BIC:               </th> <td>   2397.</td> \n",
       "</tr>\n",
       "<tr>\n",
       "  <th>Df Model:</th>              <td>     1</td>      <th>                     </th>     <td> </td>    \n",
       "</tr>\n",
       "<tr>\n",
       "  <th>Covariance Type:</th>      <td>nonrobust</td>    <th>                     </th>     <td> </td>    \n",
       "</tr>\n",
       "</table>\n",
       "<table class=\"simpletable\">\n",
       "<tr>\n",
       "     <td></td>       <th>coef</th>     <th>std err</th>      <th>t</th>      <th>P>|t|</th>  <th>[0.025</th>    <th>0.975]</th>  \n",
       "</tr>\n",
       "<tr>\n",
       "  <th>Pieces</th> <td>    0.1028</td> <td>    0.001</td> <td>   97.582</td> <td> 0.000</td> <td>    0.101</td> <td>    0.105</td>\n",
       "</tr>\n",
       "</table>\n",
       "<table class=\"simpletable\">\n",
       "<tr>\n",
       "  <th>Omnibus:</th>       <td>66.347</td> <th>  Durbin-Watson:     </th> <td>   1.872</td> \n",
       "</tr>\n",
       "<tr>\n",
       "  <th>Prob(Omnibus):</th> <td> 0.000</td> <th>  Jarque-Bera (JB):  </th> <td>1252.090</td> \n",
       "</tr>\n",
       "<tr>\n",
       "  <th>Skew:</th>          <td>-0.216</td> <th>  Prob(JB):          </th> <td>1.29e-272</td>\n",
       "</tr>\n",
       "<tr>\n",
       "  <th>Kurtosis:</th>      <td>13.118</td> <th>  Cond. No.          </th> <td>    1.00</td> \n",
       "</tr>\n",
       "</table><br/><br/>Warnings:<br/>[1] Standard Errors assume that the covariance matrix of the errors is correctly specified."
      ],
      "text/plain": [
       "<class 'statsmodels.iolib.summary.Summary'>\n",
       "\"\"\"\n",
       "                            OLS Regression Results                            \n",
       "==============================================================================\n",
       "Dep. Variable:                USPrice   R-squared:                       0.970\n",
       "Model:                            OLS   Adj. R-squared:                  0.970\n",
       "Method:                 Least Squares   F-statistic:                     9522.\n",
       "Date:                Thu, 04 Apr 2019   Prob (F-statistic):          6.45e-225\n",
       "Time:                        16:33:44   Log-Likelihood:                -1195.7\n",
       "No. Observations:                 293   AIC:                             2393.\n",
       "Df Residuals:                     292   BIC:                             2397.\n",
       "Df Model:                           1                                         \n",
       "Covariance Type:            nonrobust                                         \n",
       "==============================================================================\n",
       "                 coef    std err          t      P>|t|      [0.025      0.975]\n",
       "------------------------------------------------------------------------------\n",
       "Pieces         0.1028      0.001     97.582      0.000       0.101       0.105\n",
       "==============================================================================\n",
       "Omnibus:                       66.347   Durbin-Watson:                   1.872\n",
       "Prob(Omnibus):                  0.000   Jarque-Bera (JB):             1252.090\n",
       "Skew:                          -0.216   Prob(JB):                    1.29e-272\n",
       "Kurtosis:                      13.118   Cond. No.                         1.00\n",
       "==============================================================================\n",
       "\n",
       "Warnings:\n",
       "[1] Standard Errors assume that the covariance matrix of the errors is correctly specified.\n",
       "\"\"\""
      ]
     },
     "execution_count": 17,
     "metadata": {},
     "output_type": "execute_result"
    }
   ],
   "source": [
    "#Simple regression model\n",
    "#Define regression model - dependent variable price and covariate pieces.\n",
    "#Fit the model using OLS\n",
    "reg1 = sm.OLS(starwars[\"USPrice\"],starwars[\"Pieces\"] ).fit()\n",
    "#Predict using pieces\n",
    "predictions = reg1.predict(starwars[\"Pieces\"]) \n",
    "#Create regression summary\n",
    "reg1.summary()"
   ]
  },
  {
   "cell_type": "markdown",
   "metadata": {},
   "source": [
    "It seems extra pieces increase price. "
   ]
  },
  {
   "cell_type": "markdown",
   "metadata": {},
   "source": [
    "We now want to do a multiple regression analysis linking danish corporate data, US-economy and the Star Wars dataset. We use the varibale \"Executive Age\" from the danish corporate data, US-gdp from the World Bank and US-price and pieces from the Star Wars data (though they might correlate as indicated by the first regression). First we merge the three datasets.    "
   ]
  },
  {
   "cell_type": "code",
   "execution_count": null,
   "metadata": {},
   "outputs": [],
   "source": [
    "#take the mean of executive age at each year from 1980 and onwards.  \n",
    "file = file[pd.notnull(file[\"Normal_start\"])]\n",
    "file[\"CompanyYear\"] = file[\"Normal_start\"].astype(str).str[:4].astype(int)\n",
    "\n",
    "file = file.loc[file[\"CompanyYear\"]>=1980,:]\n",
    "\n",
    "#file.groupby(\"CompanyYear\").mean()[\"ExecutiveAge\"].plot()"
   ]
  },
  {
   "cell_type": "code",
   "execution_count": null,
   "metadata": {},
   "outputs": [],
   "source": [
    "#Merge the three datasets. \n",
    "joinme = file.groupby(\"CompanyYear\").mean()[\"ExecutiveAge\"]\n",
    "joinme = joinme.to_frame()\n",
    "joinme.info()\n",
    "both_inner = pd.merge(both_inner,joinme,how=\"inner\",left_on = \"Year\",right_on = \"CompanyYear\")"
   ]
  },
  {
   "cell_type": "code",
   "execution_count": null,
   "metadata": {},
   "outputs": [],
   "source": [
    "#Define log pieces as log of pieces\n",
    "both_inner[\"LogPieces\"] = np.log(both_inner[\"Pieces\"])\n",
    "both_inner.head(3)"
   ]
  },
  {
   "cell_type": "code",
   "execution_count": null,
   "metadata": {},
   "outputs": [],
   "source": [
    "#Do the multiple regression\n",
    "reg2 = sm.OLS(both_inner[\"gdp\"], both_inner[[\"USPrice\",\"LogPieces\",\"ExecutiveAge\"]]).fit()\n",
    "predictions = reg2.predict(both_inner[[\"USPrice\",\"LogPieces\",\"ExecutiveAge\"]]) \n",
    "reg2.summary()"
   ]
  },
  {
   "cell_type": "markdown",
   "metadata": {},
   "source": [
    "Which seems to work \"surprisingly\" quite well. Let us take a look at the difference between the prediction of the model and the actual realizations of gdp to better see the fit.   "
   ]
  },
  {
   "cell_type": "code",
   "execution_count": null,
   "metadata": {},
   "outputs": [],
   "source": [
    "#Calculate the predicted values using the parameters of the regression outcome. \n",
    "predict = list(zip(both_inner[\"Year\"],both_inner[\"USPrice\"]*(-225.2091)+both_inner[\"LogPieces\"]*13240-468.1136*both_inner[\"ExecutiveAge\"]))\n",
    "\n",
    "predict = pd.DataFrame(predict,columns = [\"Year\",\"Prediction\"])\n",
    "\n",
    "predict = pd.merge(predict,both_inner,how=\"inner\",left_on=\"Year\",right_on=\"Year\")\n",
    "\n",
    "predict = predict.loc[:,[\"Year\",\"Prediction\",\"gdp\"]]\n",
    "\n",
    "predict\n",
    "\n",
    "fig = plt.figure()\n",
    "\n",
    "#Plot the difference \n",
    "plt.plot(predict[\"Year\"],predict[\"Prediction\"])\n",
    "plt.plot(predict[\"Year\"],predict[\"gdp\"])\n",
    "ax.legend()\n",
    "plt.show()\n",
    "\n",
    "#Plot percentage deviation\n",
    "predict[\"Difference\"] = (predict[\"Prediction\"] - predict[\"gdp\"])/predict[\"gdp\"]\n",
    "\n",
    "predict.loc[:,[\"Year\",\"Difference\"]].plot(x=\"Year\",legend = False, title=\"Percentage deviation from actual values\")\n"
   ]
  },
  {
   "cell_type": "markdown",
   "metadata": {},
   "source": [
    "We might suspect that there is a correlation between executive age and gdp though the variable year. Lets take a look:"
   ]
  },
  {
   "cell_type": "code",
   "execution_count": null,
   "metadata": {},
   "outputs": [],
   "source": [
    "#Plot executive age and gdp in scatter\n",
    "both_inner.plot(x=\"ExecutiveAge\",y=\"gdp\",kind=\"scatter\")"
   ]
  },
  {
   "cell_type": "code",
   "execution_count": null,
   "metadata": {},
   "outputs": [],
   "source": [
    "#Plot gdp\n",
    "gdps_wb.plot(x=\"Year\")"
   ]
  },
  {
   "cell_type": "code",
   "execution_count": null,
   "metadata": {},
   "outputs": [],
   "source": [
    "#Plot executive age\n",
    "joinme = file.groupby(\"CompanyYear\").mean()[\"ExecutiveAge\"].plot()"
   ]
  },
  {
   "cell_type": "markdown",
   "metadata": {},
   "source": [
    "So it seems that while gdp is increasing through the years, Executive age is falling. This concludes the data project.  "
   ]
  },
  {
   "cell_type": "markdown",
   "metadata": {},
   "source": [
    "#### Conclusion\n",
    "First we performed a data analysis on the danish corporate data and showed how to filter and the data in various ways. Furthermore, we presented different overviews over the data and the certain calculations such as mean log-transform. We performed analysis on distributional results and showed how to fit densities to distributions. We then showed how to use data from an API to fetch data from the World Bank. Lastly, we did some of the same procedures on the Star Wars dataset and showed how to interactively ascess the data. We merged all of the three datasets and performed st   \n"
   ]
  }
 ],
 "metadata": {
  "kernelspec": {
   "display_name": "Python 3",
   "language": "python",
   "name": "python3"
  },
  "language_info": {
   "codemirror_mode": {
    "name": "ipython",
    "version": 3
   },
   "file_extension": ".py",
   "mimetype": "text/x-python",
   "name": "python",
   "nbconvert_exporter": "python",
   "pygments_lexer": "ipython3",
   "version": "3.7.1"
  }
 },
 "nbformat": 4,
 "nbformat_minor": 2
}
