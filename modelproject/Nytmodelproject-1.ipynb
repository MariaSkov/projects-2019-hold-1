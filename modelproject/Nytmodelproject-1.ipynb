{
 "cells": [
  {
   "cell_type": "markdown",
   "metadata": {},
   "source": [
    "# New Keynesian Model with Backward Looking Expectations\n",
    "### Model-Project - by fbm569 and pbn351\n",
    "\n",
    "The standard New Keynesian Model consists of a three equations framework. The dynamic IS-curve, the New Keynesian Philipscurve and the monetary policy rule also called the Taylor Rule. What characterizes these equations are that they are build on forward-looking expectations. Agents in the model make decisions taking into account the future evolution of economic variables. The approach is known as rational expecations, where each agent forms expecations using the conditional expectation opperator and thus forming model consistent expectations. The approach of this project is to study the same New Keynesian model, but with backward-looking expectations. This approach makes the computational aspects of solving and simulating the model more tractable.\n",
    "\n",
    "The standard New Keynesian model for instance found in Woodford (2004) and Gali (2008) has the following three equations:\n",
    "\n",
    "1. Dynamic IS-curve:\n",
    "$$y_t=\\mathbb{E}_t\\{y_{t+1}\\}-\\frac{1}{\\sigma}(i_t-\\mathbb{E}_t\\{\\pi_{t+1}\\}-\\rho)$$ \n",
    "\n",
    "2. NKPC:\n",
    "$$\\pi_t=\\mathbb{E}_t\\{\\pi_{t+1}\\}+\\kappa(y_t-y_t^n)$$\n",
    "\n",
    "3. Taylor Rule:\n",
    "$$i_t=\\rho+\\pi_t+\\phi_\\pi(\\pi_t-\\pi_t^*)+\\phi_y(y_t-y_t^n)$$\n",
    "\n",
    "All the model equations are forward looking. Thus in order to solve these, one would have to solve for a rational expecations equilibrium. \n",
    "\n",
    "Instead this project studies almost the same model, but with backward-looking expectations. That is:\n",
    "\n",
    "$$\\mathbb{E}_{t-1}\\pi_t=\\pi_{t-1}$$\n",
    "\n",
    "\n",
    "### Model Equations\n",
    "The model equations used in this project is:\n",
    "\n",
    "1. Dynamic IS-curve\n",
    "$$y_t=y_t^n-\\frac{1}{\\sigma}(r_t-\\rho)+z_t$$\n",
    "\n",
    "2. Backward-looking Philipscurve\n",
    "$$\\pi_t=\\mathbb{E}_{t-1}\\{\\pi_{t}\\}+\\kappa(y_t-y_t^n)+\\nu_t$$\n",
    "\n",
    "3. Taylor Rule\n",
    "$$i_t=\\rho+\\pi_t+\\phi_\\pi(\\pi_t-\\pi_t^*)+\\phi_y(y_t-y_t^n)$$\n",
    "\n",
    "4. Fisher identity\n",
    "\n",
    "$$r_t=i_t-\\mathbb{E}_t\\{\\pi_{t+1}\\}$$\n",
    "\n",
    "5. Expectations formation\n",
    "$$\\mathbb{E}_{t-1}\\pi_t=\\pi_{t-1}$$\n",
    "\n",
    "6. Stochastic processes (Demand and Supply shock)\n",
    "$$z_t=\\rho_z z_{t-1}+\\varepsilon_z$$ \n",
    "\n",
    "$$a_t=\\rho_\\nu \\nu_{t-1}+\\varepsilon_a$$\n",
    "\n",
    "$$\\varepsilon_z\\sim \\mathbb{N}(0,\\sigma_z)$$\n",
    "\n",
    "$$\\varepsilon_\\nu\\sim \\mathbb{N}(0,\\sigma_\\nu)$$\n",
    "\n",
    "The shocks in the model are governed by a demand shock $z_t$ and a supply shock $a_t$ both driven by an AR(1)-proces. \n",
    "\n",
    "The expecations formations is such that agents form their current expectation by setting it equal to last periods value - this is known as adaptive expectations. \n",
    "\n",
    "The model has five endogenous variables:\n",
    "Output $y_t$, inflation $\\pi_t$, Nominal Interest rate $i_t$, Real interest rate $r_t$ and the expectation to next periods inflation $\\mathbb{E}_t\\{\\pi_{t-1}\\}$.  \n",
    "\n",
    "The parameters in model are the slope of IS-curve $\\sigma$, slope of Philipscurve $\\kappa$ and the two Taylor parameters $phi_y$ and $\\phi_\\pi$. \n",
    "\n",
    "\n",
    "\n",
    "\n",
    "\n"
   ]
  },
  {
   "cell_type": "markdown",
   "metadata": {},
   "source": [
    "### 1. The Model Equilibrium\n",
    "\n",
    "We start by importing packages that we use"
   ]
  },
  {
   "cell_type": "code",
   "execution_count": 8,
   "metadata": {},
   "outputs": [],
   "source": [
    "from scipy.optimize import fsolve\n",
    "import math\n",
    "import numpy as np\n",
    "import matplotlib.pyplot as plt\n",
    "import random\n",
    "import ipywidgets as widgets\n",
    "from matplotlib.pyplot import *\n",
    "from IPython.display import display, clear_output\n",
    "import copy"
   ]
  },
  {
   "cell_type": "markdown",
   "metadata": {},
   "source": [
    "We then define the Phililpscurve:"
   ]
  },
  {
   "cell_type": "code",
   "execution_count": 9,
   "metadata": {},
   "outputs": [],
   "source": [
    "#Define Philipscurve as function:\n",
    "def Philipscurve(y):\n",
    "    return pi_lag+kappa*(y-ynat)\n"
   ]
  },
  {
   "cell_type": "markdown",
   "metadata": {},
   "source": [
    "We want to plot the Philipscurve in a (y,$\\pi$) diagram showing its slope. But in order to do the plotting, we need to define and give values to some of the parameters. "
   ]
  },
  {
   "cell_type": "code",
   "execution_count": 10,
   "metadata": {},
   "outputs": [],
   "source": [
    "#Set parameter values for now. \n",
    "#Notice that last periods inflation is assumed to be 0. \n",
    "pi_lag=0\n",
    "kappa=0.5\n",
    "ynat=2"
   ]
  },
  {
   "cell_type": "markdown",
   "metadata": {},
   "source": [
    "Now we plot the Philipscurve"
   ]
  },
  {
   "cell_type": "code",
   "execution_count": 11,
   "metadata": {},
   "outputs": [
    {
     "data": {
      "text/plain": [
       "<function matplotlib.pyplot.show(*args, **kw)>"
      ]
     },
     "execution_count": 11,
     "metadata": {},
     "output_type": "execute_result"
    }
   ],
   "source": [
    "x = np.linspace(0,10,100)\n",
    "y=Philipscurve(x)\n",
    "plt.plot(x,y, \"b\",label=\"Philipscurve\")\n",
    "plt.legend(title=\"Philipscurve\")\n",
    "plt.suptitle('Philipscurve')\n",
    "plt.xlabel('Output (y)')\n",
    "plt.ylabel('Inflation $(\\pi)$')\n",
    "\n",
    "\n",
    "plt.axvline(x=2, label='Natural Output',color='k')\n",
    "plt.legend()\n",
    "plt.show"
   ]
  },
  {
   "cell_type": "markdown",
   "metadata": {},
   "source": [
    "The Philipscurve is upward sloping implying that an increase in output, increases inflation. Notice that when output is at its natural $y^n=2$ then inflation is zero (price-stability). \n",
    "\n",
    "We now want to use the IS-equation and the monetary policy rule to form what is known as the Aggregate Demand curve (AD-curve for short). \n",
    "\n",
    "If we insert the monetary policy rule into the IS-curve and solve for Y we obtain the Aggregate demand curve:\n",
    "\n",
    "$$y_t=y^n-\\frac{\\frac{1}{\\sigma}\\phi_\\pi}{(1+\\frac{1}{\\sigma}\\phi_y)}(\\pi_t-\\pi_t^*)+\\frac{1}{(1+\\frac{1}{\\sigma}\\phi_y)}z_t$$\n",
    "\n",
    "The curve is downward sloping implying that an increase in inflation makes the central bank raise interest rates and thus lowering output.  \n",
    "\n",
    "We now want to both plot the Philipscurve and the Aggregate Demand curve - combined we call it the AS-AD model. Notice that when we define the AD-curve, it is the inverse of the above function since it should be a function of y in the diagram."
   ]
  },
  {
   "cell_type": "code",
   "execution_count": 12,
   "metadata": {},
   "outputs": [],
   "source": [
    "#Define AD-curve as a function:\n",
    "def ADcurve(y):\n",
    "    return (y-(1/(1+sigma*phi_y))-ynat)/(-(sigma*phi_pi/(1+sigma*phi_y)))+pistar\n",
    "\n",
    "#Choose parametervalues for now. \n",
    "pistar=0\n",
    "sigma=1\n",
    "phi_y=0.5\n",
    "phi_pi=1.5"
   ]
  },
  {
   "cell_type": "markdown",
   "metadata": {},
   "source": [
    "Now we are ready to plot both the Philipscurve and the Aggregate Demand curve in the same diagram showing an equilibrium. "
   ]
  },
  {
   "cell_type": "code",
   "execution_count": 13,
   "metadata": {},
   "outputs": [
    {
     "data": {
      "text/plain": [
       "<function matplotlib.pyplot.show(*args, **kw)>"
      ]
     },
     "execution_count": 13,
     "metadata": {},
     "output_type": "execute_result"
    }
   ],
   "source": [
    "#Calculate values of both a plot both curves in the same diagram\n",
    "z = np.linspace(0,10,100)\n",
    "w=ADcurve(z)\n",
    "plt.plot(z,w,\"r\",label='AD-curve')\n",
    "plt.plot(x,y,\"b\",label='Philipscurve')\n",
    "plt.legend()\n",
    "plt.suptitle('AS-AD')\n",
    "plt.xlabel('Output (y)')\n",
    "plt.ylabel('Inflation $(\\pi)$')\n",
    "\n",
    "#Insert vertial line at natural output\n",
    "plt.axvline(x=2, label='Natural Output',color='k')\n",
    "\n",
    "plt.legend()\n",
    "plt.show"
   ]
  },
  {
   "cell_type": "markdown",
   "metadata": {},
   "source": [
    "The plot shows where the two curves cross each other. The short run equilibrium in the model is determined by the crossing point. In addition, the long run aggregate supply curve has been drawn. "
   ]
  },
  {
   "cell_type": "markdown",
   "metadata": {},
   "source": [
    "The steady state of the economy is the long run equilibrium at which the economy fluctuates around. Each time it is hit by a shock, the economy moves out of the steady-state and then return after a number of periods. The steady-state equations is found by setting each shock to zero $\\epsilon_z=\\epsilon_v=0$ and when the inflation is stabalised $\\pi_t=pi_{t-1}$. The equations are:\n",
    "\n",
    "$$y_t=y^n$$\n",
    "$$r_t=\\rho$$\n",
    "$$\\pi_t=\\pi^*$$\n",
    "$$\\mathbb{E}_t\\{\\pi_{t+1}\\}=\\pi_t$$\n",
    "$$i_t=\\rho+\\pi_t^*$$\n",
    "\n",
    "\n"
   ]
  },
  {
   "cell_type": "markdown",
   "metadata": {},
   "source": [
    "### 2. Impulse Response Functions\n",
    "We now turn to simulation of the model. We let both shock follow the aforementioned AR(1)-processes. We set the persistence of both shocks to be relatively high $\\rho_a=0.9$ and $\\rho_z=0.9$. "
   ]
  },
  {
   "cell_type": "markdown",
   "metadata": {},
   "source": [
    "We start by defining each equation in the model. We define $\\frac{1}{\\sigma}=\\alpha$. "
   ]
  },
  {
   "cell_type": "code",
   "execution_count": 14,
   "metadata": {},
   "outputs": [],
   "source": [
    "#Philipscurve\n",
    "def yt_func(pit, zt, *params):\n",
    "    return ytbar - (alpha*phipi/(1+alpha*phiy))*(pit-pitstar)+(1/(1+alpha*phiy))*zt\n",
    "\n",
    "#AD-curve\n",
    "def pit_func(pit_1, yt, vt, *params):\n",
    "    return pit_1+kappa*(yt-ytbar)+vt\n",
    "\n",
    "#Stochastic processes\n",
    "def z_func(zt_1, epsilonz, *params):\n",
    "    return rhoz*zt_1+epsilonz\n",
    "\n",
    "def v_func(vt_1, epsilonv, *params):\n",
    "    return rhov*vt_1+epsilonv"
   ]
  },
  {
   "cell_type": "markdown",
   "metadata": {},
   "source": [
    "We now set some default parameter values to begin with.\n",
    "The parameter $\\alpha=1$, $\\phi_y=0.5$, $\\phi_\\pi=1.5$, $\\kappa=0.5$. The variances of the shocks are set to $\\sigma_z^2=1$, $\\sigma_\\nu^2=0$. This muting the supply shock  "
   ]
  },
  {
   "cell_type": "code",
   "execution_count": 16,
   "metadata": {},
   "outputs": [],
   "source": [
    "##Set default value to all parameters\n",
    "ytbar_default = 0\n",
    "alpha_default = 1\n",
    "phipi_default = 1.5 \n",
    "phiy_default = 0.5\n",
    "pitstar_default = 0\n",
    "kappa_default = 0.5\n",
    "rhoz_default = 0.9\n",
    "rhov_default = 0.9\n",
    "epsilonz_scale_default = 1\n",
    "epsilonv_scale_default = 0.05\n",
    "T_default = 20\n",
    "crisis_default = 'Yes'"
   ]
  },
  {
   "cell_type": "markdown",
   "metadata": {},
   "source": [
    "We now want to see what happens to each endogenous variables when hit by a unexpected shock in the first period. We only consider demand shocks and the persistence is set as above. We plot the impulse response functions that shows deviation from the steady state value when the shock hits. The plot lets us analyze how the shock propagates in the economy "
   ]
  },
  {
   "cell_type": "code",
   "execution_count": 17,
   "metadata": {},
   "outputs": [
    {
     "data": {
      "text/plain": [
       "<matplotlib.lines.Line2D at 0x17db6087630>"
      ]
     },
     "execution_count": 17,
     "metadata": {},
     "output_type": "execute_result"
    },
    {
     "data": {
      "image/png": "[encoded data removed]",
      "text/plain": [
       "<Figure size 432x288 with 1 Axes>"
      ]
     },
     "metadata": {
      "needs_background": "light"
     },
     "output_type": "display_data"
    },
    {
     "data": {
      "image/png": "[encoded data removed]",
      "text/plain": [
       "<Figure size 432x288 with 1 Axes>"
      ]
     },
     "metadata": {
      "needs_background": "light"
     },
     "output_type": "display_data"
    },
    {
     "data": {
      "image/png": "[encoded data removed]",
      "text/plain": [
       "<Figure size 432x288 with 1 Axes>"
      ]
     },
     "metadata": {
      "needs_background": "light"
     },
     "output_type": "display_data"
    },
    {
     "data": {
      "image/png": "[encoded data removed]",
      "text/plain": [
       "<Figure size 432x288 with 1 Axes>"
      ]
     },
     "metadata": {
      "needs_background": "light"
     },
     "output_type": "display_data"
    }
   ],
   "source": [
    "#Set all values to their default defined value\n",
    "%matplotlib inline\n",
    "ytbar = ytbar_default\n",
    "alpha = alpha_default\n",
    "phipi = phipi_default\n",
    "phiy = phiy_default\n",
    "pitstar = pitstar_default\n",
    "kappa = kappa_default\n",
    "rhoz = rhoz_default\n",
    "rhov = rhov_default\n",
    "epsilonz_scale = epsilonz_scale_default\n",
    "epsilonv_scale = epsilonv_scale_default\n",
    "T = T_default\n",
    "isCrisis = crisis_default\n",
    "\n",
    "plt.close()\n",
    "\n",
    "#Allocate space for the endogenous variables by setting them to zero in all periods in the beginning\n",
    "epsilonz = np.zeros(T)\n",
    "epsilonz[1]= 10\n",
    "epsilonv = np.random.normal(loc=0,scale=0,size=T)\n",
    "z = np.zeros(T)\n",
    "v = np.zeros(T)\n",
    "y = np.zeros(T)\n",
    "pi = np.zeros(T)\n",
    "i=np.zeros(T)\n",
    "\n",
    "#Solve for each time period by solving the system of difference equation consisting of the AD and Philipscurve. \n",
    "for t in range(1,T):\n",
    "    def equations(p):\n",
    "        yt, pit = p\n",
    "        return (ytbar - (alpha*phipi/(1+alpha*phiy))*(pit-pitstar)+(1/(1+alpha*phiy))*z[t]-yt, pi[t-1]+kappa*(yt-ytbar)+v[t]-pit)\n",
    "\n",
    "#In each period save the value to variable\n",
    "    z[t] = z_func(z[t-1], epsilonz[t])\n",
    "    v[t] = v_func(v[t-1], epsilonv[t])\n",
    "    #print(z[t],v[t])\n",
    "\n",
    "    y[t], pi[t] =  fsolve(copy.deepcopy(equations),(0, 0))\n",
    "    \n",
    "    i[t]=phi_pi*(pi[t]-pitstar)+phi_y*(y[t]-ytbar)\n",
    "    #print(pi[t])\n",
    "\n",
    "    #Plot the impulse response functions\n",
    "fig = plt.figure()\n",
    "ax = fig.add_subplot(1,1,1)\n",
    "\n",
    "\n",
    "ax.plot(y,'-r',label = 'y')\n",
    "#ax.plot(pi, label = 'pi')\n",
    "\n",
    "ax.set_xlabel('time, t')\n",
    "\n",
    "ax.set_ylabel('percent')\n",
    "ax.set_ylim([-5,5])\n",
    "ax.legend(loc='lower left')\n",
    "plt.suptitle('Output $y_t$')\n",
    "axhline(y=0,color=\"k\",linestyle=\"--\")\n",
    "\n",
    "fig = plt.figure()\n",
    "ax = fig.add_subplot(1,1,1)\n",
    "\n",
    "#ax.plot(y,'-rD',label = 'y',markevery=mark)\n",
    "ax.plot(pi, label = 'pi')\n",
    "\n",
    "ax.set_xlabel('time, t')\n",
    "\n",
    "ax.set_ylabel('percent')\n",
    "ax.set_ylim([-5,5])\n",
    "ax.legend(loc='lower left')\n",
    "plt.suptitle('Inflation $\\pi_t$')\n",
    "axhline(y=0,color=\"k\",linestyle=\"--\")\n",
    "\n",
    "fig = plt.figure()\n",
    "ax = fig.add_subplot(1,1,1)\n",
    "\n",
    "\n",
    "#ax.plot(y,'-rD',label = 'y',markevery=mark)\n",
    "ax.plot(i, label = 'i')\n",
    "\n",
    "ax.set_xlabel('time, t')\n",
    "\n",
    "ax.set_ylabel('percent')\n",
    "ax.set_ylim([-3,8])\n",
    "ax.legend(loc='lower left')\n",
    "plt.suptitle('Nominal Interest Rate $i_t$')\n",
    "axhline(y=0,color=\"k\",linestyle=\"--\")\n",
    "\n",
    "fig = plt.figure()\n",
    "ax = fig.add_subplot(1,1,1)\n",
    "\n",
    "#ax.plot(y,'-rD',label = 'y',markevery=mark)\n",
    "ax.plot(z, label = 'z')\n",
    "\n",
    "ax.set_xlabel('time, t')\n",
    "\n",
    "ax.set_ylabel('percent')\n",
    "ax.set_ylim([-3,10])\n",
    "ax.legend(loc='lower left')\n",
    "plt.suptitle('Demand Shock $z_t$')\n",
    "axhline(y=0,color=\"k\",linestyle=\"--\")"
   ]
  },
  {
   "cell_type": "markdown",
   "metadata": {},
   "source": [
    "### 3. Interactive Simulation of the Model\n",
    "\n",
    "The impulse response functions above showed how the demand shock propagate in the economy by holding the other shock constant and using a one-period shock. Now we want to see how the whole economy moves when hit by shock in each period. We consider both demand and supply shocks when doing the simulation. In order to make the simulation as nice as possible we create an interactive user surface that lets the user change each parameter and see the simulation again.  "
   ]
  },
  {
   "cell_type": "markdown",
   "metadata": {},
   "source": [
    "First we need to set up a slider where it is possible to change the parameter values. We set the initial value of the slider to the default value defined above"
   ]
  },
  {
   "cell_type": "code",
   "execution_count": 14,
   "metadata": {},
   "outputs": [
    {
     "data": {
      "application/vnd.jupyter.widget-view+json": {
       "model_id": "3374392fa41e45a19242e5f0d31675ea",
       "version_major": 2,
       "version_minor": 0
      },
      "text/plain": [
       "BoundedFloatText(value=0.0, description='$y_t^n:$', max=5.0, min=-5.0, step=0.1)"
      ]
     },
     "metadata": {},
     "output_type": "display_data"
    },
    {
     "data": {
      "application/vnd.jupyter.widget-view+json": {
       "model_id": "f2ea4fbebd6c4431bc567dab60f43ae3",
       "version_major": 2,
       "version_minor": 0
      },
      "text/plain": [
       "BoundedFloatText(value=1.0, description='$\\x07lpha:$', max=2.0, step=0.1)"
      ]
     },
     "metadata": {},
     "output_type": "display_data"
    },
    {
     "data": {
      "application/vnd.jupyter.widget-view+json": {
       "model_id": "d62b7254892a4b27849b33062ef06ea7",
       "version_major": 2,
       "version_minor": 0
      },
      "text/plain": [
       "BoundedFloatText(value=1.5, description='$\\\\phi_\\\\pi$:', max=5.0, min=1.0, step=0.1)"
      ]
     },
     "metadata": {},
     "output_type": "display_data"
    },
    {
     "data": {
      "application/vnd.jupyter.widget-view+json": {
       "model_id": "287303a5ce1c4fa99b74950489121509",
       "version_major": 2,
       "version_minor": 0
      },
      "text/plain": [
       "BoundedFloatText(value=0.5, description='$\\\\phi_y$:', max=3.0, step=0.1)"
      ]
     },
     "metadata": {},
     "output_type": "display_data"
    },
    {
     "data": {
      "application/vnd.jupyter.widget-view+json": {
       "model_id": "cd573e0f689b498fb975405a6b9116fd",
       "version_major": 2,
       "version_minor": 0
      },
      "text/plain": [
       "BoundedFloatText(value=0.0, description='$\\\\pi_t^*$:', max=5.0, min=-5.0, step=0.1)"
      ]
     },
     "metadata": {},
     "output_type": "display_data"
    },
    {
     "data": {
      "application/vnd.jupyter.widget-view+json": {
       "model_id": "a6c2578fc1734bd0ae20532fe4a75041",
       "version_major": 2,
       "version_minor": 0
      },
      "text/plain": [
       "BoundedFloatText(value=0.5, description='$\\\\kappa$:', max=2.0, step=0.1)"
      ]
     },
     "metadata": {},
     "output_type": "display_data"
    },
    {
     "data": {
      "application/vnd.jupyter.widget-view+json": {
       "model_id": "666b761e566e41b884e34b041089d0d0",
       "version_major": 2,
       "version_minor": 0
      },
      "text/plain": [
       "BoundedFloatText(value=0.9, description='$p_z:$', max=0.99, step=0.01)"
      ]
     },
     "metadata": {},
     "output_type": "display_data"
    },
    {
     "data": {
      "application/vnd.jupyter.widget-view+json": {
       "model_id": "427f1e57d37f42efb625cc5361ef4eb0",
       "version_major": 2,
       "version_minor": 0
      },
      "text/plain": [
       "BoundedFloatText(value=0.9, description='$p_v:$', max=0.99, step=0.01)"
      ]
     },
     "metadata": {},
     "output_type": "display_data"
    },
    {
     "data": {
      "application/vnd.jupyter.widget-view+json": {
       "model_id": "7213de1513374b8f8c7faad21e86b98b",
       "version_major": 2,
       "version_minor": 0
      },
      "text/plain": [
       "BoundedFloatText(value=1.0, description='$\\\\sigma_z^2$:', max=5.0, step=0.1)"
      ]
     },
     "metadata": {},
     "output_type": "display_data"
    },
    {
     "data": {
      "application/vnd.jupyter.widget-view+json": {
       "model_id": "b81e9571f16242f69531381e4b0204ab",
       "version_major": 2,
       "version_minor": 0
      },
      "text/plain": [
       "BoundedFloatText(value=0.0, description='$\\\\sigma_\\nu^2:$', max=1.0, step=0.1)"
      ]
     },
     "metadata": {},
     "output_type": "display_data"
    },
    {
     "data": {
      "application/vnd.jupyter.widget-view+json": {
       "model_id": "bd13db4976d84e9bb88f0fc1fb0021f8",
       "version_major": 2,
       "version_minor": 0
      },
      "text/plain": [
       "BoundedIntText(value=100, description='T:', max=1000, min=10, step=10)"
      ]
     },
     "metadata": {},
     "output_type": "display_data"
    },
    {
     "data": {
      "application/vnd.jupyter.widget-view+json": {
       "model_id": "bde0b56cbc3f47c2818337134511c5a6",
       "version_major": 2,
       "version_minor": 0
      },
      "text/plain": [
       "SelectionSlider(continuous_update=False, description='Crisis?', options=('Yes', 'No'), value='Yes')"
      ]
     },
     "metadata": {},
     "output_type": "display_data"
    }
   ],
   "source": [
    "#Define each slider, its maximum, minimum etc. \n",
    "#ToDo: Rename variables appropriately\n",
    "ytbar_slider = widgets.BoundedFloatText(\n",
    "    value=ytbar_default,\n",
    "    min=-5,\n",
    "    max=5.0,\n",
    "    step=0.1,\n",
    "    description='$y_t^n:$',\n",
    "    disabled=False\n",
    ")\n",
    "\n",
    "alpha_slider = widgets.BoundedFloatText(\n",
    "    value=alpha_default,\n",
    "    min=0,\n",
    "    max=2.0,\n",
    "    step=0.1,\n",
    "    description='$\\alpha:$',\n",
    "    disabled=False\n",
    ")\n",
    "\n",
    "thetapi_slider = widgets.BoundedFloatText(\n",
    "    value=phipi_default,\n",
    "    min=1,\n",
    "    max=5.0,\n",
    "    step=0.1,\n",
    "    description='$\\phi_\\pi$:',\n",
    "    disabled=False\n",
    ")\n",
    "\n",
    "thetay_slider = widgets.BoundedFloatText(\n",
    "    value=phiy_default,\n",
    "    min=0,\n",
    "    max=3.0,\n",
    "    step=0.1,\n",
    "    description='$\\phi_y$:',\n",
    "    disabled=False\n",
    ")\n",
    "\n",
    "pitstar_slider = widgets.BoundedFloatText(\n",
    "    value=pitstar_default,\n",
    "    min=-5,\n",
    "    max=5,\n",
    "    step=0.1,\n",
    "    description='$\\pi_t^*$:',\n",
    "    disabled=False\n",
    ")\n",
    "\n",
    "phi_slider = widgets.BoundedFloatText(\n",
    "    value=kappa_default,\n",
    "    min=0,\n",
    "    max=2,\n",
    "    step=0.1,\n",
    "    description='$\\kappa$:',\n",
    "    disabled=False\n",
    ")\n",
    "\n",
    "rhoz_slider = widgets.BoundedFloatText(\n",
    "    value=rhoz_default,\n",
    "    min=0,\n",
    "    max=0.99,\n",
    "    step=0.01,\n",
    "    description='$p_z:$',\n",
    "    disabled=False\n",
    ")\n",
    "\n",
    "rhov_slider = widgets.BoundedFloatText(\n",
    "    value=rhov_default,\n",
    "    min=0,\n",
    "    max=0.99,\n",
    "    step=0.01,\n",
    "    description='$p_v:$',\n",
    "    disabled=False\n",
    ")\n",
    "\n",
    "epsilonz_scale_slider = widgets.BoundedFloatText(\n",
    "    value=epsilonz_scale_default,\n",
    "    min=0,\n",
    "    max=5,\n",
    "    step=0.1,\n",
    "    description='$\\sigma_z^2$:',\n",
    "    disabled=False\n",
    ")\n",
    "\n",
    "epsilonv_scale_slider = widgets.BoundedFloatText(\n",
    "    value=epsilonv_scale_default,\n",
    "    min=0,\n",
    "    max=1,\n",
    "    step=0.1,\n",
    "    description='$\\sigma_\\nu^2:$',\n",
    "    disabled=False\n",
    ")\n",
    "\n",
    "T_slider = widgets.BoundedIntText(\n",
    "    value=100,\n",
    "    min=10,\n",
    "    max=1000,\n",
    "    step=10,\n",
    "    description='T:',\n",
    "    disabled=False\n",
    ")\n",
    "\n",
    "crisis_slider = widgets.SelectionSlider(\n",
    "    options=['Yes', 'No'],\n",
    "    value=crisis_default,\n",
    "    description='Crisis?',\n",
    "    disabled=False,\n",
    "    continuous_update=False,\n",
    "    orientation='horizontal',\n",
    "    readout=True\n",
    ")\n",
    "\n",
    "#Make a display where you can change the parameter values\n",
    "display(ytbar_slider)\n",
    "display(alpha_slider)\n",
    "display(thetapi_slider)\n",
    "display(thetay_slider)\n",
    "display(pitstar_slider)\n",
    "display(phi_slider)\n",
    "display(rhoz_slider)\n",
    "display(rhov_slider)\n",
    "display(epsilonz_scale_slider)\n",
    "display(epsilonv_scale_slider)\n",
    "display(T_slider)\n",
    "display(crisis_slider)\n",
    "\n",
    "time.sleep(2)"
   ]
  },
  {
   "cell_type": "markdown",
   "metadata": {},
   "source": [
    "Notice that an extension has been added: \"The Crisis feature\". We will introduce it later. The idea is now to solve the system of difference equations again for a number of periods and plot the whole simulation as shocks enter the economy each period.  "
   ]
  },
  {
   "cell_type": "code",
   "execution_count": 11,
   "metadata": {},
   "outputs": [
    {
     "data": {
      "application/vnd.jupyter.widget-view+json": {
       "model_id": "d633faf5edf5443684d918bede4ab3cf",
       "version_major": 2,
       "version_minor": 0
      },
      "text/plain": [
       "VBox(children=(Button(description='Display Chart', style=ButtonStyle()), Output()))"
      ]
     },
     "metadata": {},
     "output_type": "display_data"
    }
   ],
   "source": [
    "%matplotlib inline\n",
    "ytbar = ytbar_slider.value\n",
    "alpha = alpha_slider.value\n",
    "thetapi = thetapi_slider.value\n",
    "thetay = thetay_slider.value\n",
    "pitstar = pitstar_slider.value\n",
    "phi = phi_slider.value\n",
    "rhoz = rhoz_slider.value\n",
    "rhov = rhov_slider.value\n",
    "epsilonz_scale = epsilonz_scale_slider.value\n",
    "epsilonv_scale = epsilonv_scale_slider.value\n",
    "T = T_slider.value\n",
    "isCrisis = crisis_slider.value\n",
    "\n",
    "button = widgets.Button(description='Display Chart')\n",
    "out = widgets.Output()\n",
    "\n",
    "def on_button_clicked(b):\n",
    "    button.description = 'Display Chart'\n",
    "    with out:\n",
    "        %matplotlib inline\n",
    "        plt.close()\n",
    "        ytbar = ytbar_slider.value\n",
    "        alpha = alpha_slider.value\n",
    "        thetapi = thetapi_slider.value\n",
    "        thetay = thetay_slider.value\n",
    "        pitstar = pitstar_slider.value\n",
    "        phi = phi_slider.value\n",
    "        rhoz = rhoz_slider.value\n",
    "        rhov = rhov_slider.value\n",
    "        epsilonz_scale = epsilonz_scale_slider.value\n",
    "        epsilonv_scale = epsilonv_scale_slider.value\n",
    "        T = T_slider.value\n",
    "        isCrisis = crisis_slider.value\n",
    "\n",
    "        epsilonz = np.random.normal(loc=0,scale=epsilonz_scale,size=T)\n",
    "        epsilonv = np.random.normal(loc=0,scale=epsilonv_scale,size=T)\n",
    "        z = np.zeros(T)\n",
    "        v = np.zeros(T)\n",
    "        y = np.zeros(T)\n",
    "        pi = np.zeros(T)\n",
    "        crisis = np.zeros(T)\n",
    "        crisisfactor = 0\n",
    "\n",
    "        for t in range(1,T):\n",
    "            def equations(p):\n",
    "                yt, pit = p\n",
    "                return (ytbar - (alpha*thetapi/(1+alpha*thetay))*(pit-pitstar)+(1/(1+alpha*thetay))*z[t]-yt, pi[t-1]+phi*(yt-ytbar)+v[t]-pit)\n",
    "            if random.uniform(0,1) - 0.003*crisisfactor < 0.01 and isCrisis == 'Yes':\n",
    "                epsilonz[t] += -3\n",
    "                crisisfactor = -10\n",
    "            else:\n",
    "                crisisfactor += 1\n",
    "            crisis[t] = crisisfactor\n",
    "\n",
    "            z[t] = z_func(z[t-1], epsilonz[t])\n",
    "            v[t] = v_func(v[t-1], epsilonv[t])\n",
    "            #print(z[t],v[t])\n",
    "            \n",
    "            y[t], pi[t] =  fsolve(copy.deepcopy(equations),(0, 0))\n",
    "            #print(pi[t])\n",
    "\n",
    "        fig = plt.figure()\n",
    "        ax = fig.add_subplot(1,1,1)\n",
    "\n",
    "        mark = list(np.arange(len(y))[crisis == -10])\n",
    "\n",
    "        ax.plot(y,'-rD',label = 'y',markevery=mark)\n",
    "        ax.plot(pi, label = 'pi')\n",
    "\n",
    "        ax.set_xlabel('time')\n",
    "\n",
    "        ax.set_ylim([-5,5])\n",
    "        ax.legend(loc='upper left')\n",
    "        display(fig)\n",
    "        out.clear_output(wait=True)\n",
    "        \n",
    "        \n",
    "button.on_click(on_button_clicked)\n",
    "\n",
    "widgets.VBox([button, out])"
   ]
  },
  {
   "cell_type": "markdown",
   "metadata": {},
   "source": [
    "### 4. Extension - Crisis Factor\n",
    "In the simulation an crisis factor has been added. \n",
    "By setting the crisis factor to \"Yes\" the economy is hit by an extra large shock. The red dot indicates in which period the \"crisis shock\" hit the economy. The crisis shock hits a random number of periods, but to make it as realistic as possible it only hit 2-6 times in each simulation. Thus the probability of hitting a new crisis close to the other crisis is more unlikely.  \n",
    "\n",
    "### 5. Conclusion \n",
    "In the project we described a New Keynesian model with backward-looking expecations. We described the equilibrium and reduced it to a two-equation system. We used different plots to illustrate the equilibrium. Further we showed how to compute impulse response functions on each endogenous variable and showed graphically how demand shocks propogate in the economy. Lastly, we used an interactive design to perform simulations using the model. The design lets the user choose different parameter values and graph the simulation again. In addition, we added an extension in the crisis factor.   "
   ]
  }
 ],
 "metadata": {
  "kernelspec": {
   "display_name": "Python 3",
   "language": "python",
   "name": "python3"
  },
  "language_info": {
   "codemirror_mode": {
    "name": "ipython",
    "version": 3
   },
   "file_extension": ".py",
   "mimetype": "text/x-python",
   "name": "python",
   "nbconvert_exporter": "python",
   "pygments_lexer": "ipython3",
   "version": "3.7.1"
  }
 },
 "nbformat": 4,
 "nbformat_minor": 2
}
